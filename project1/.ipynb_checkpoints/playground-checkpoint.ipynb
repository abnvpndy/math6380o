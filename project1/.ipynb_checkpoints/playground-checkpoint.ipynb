{
 "cells": [
  {
   "cell_type": "code",
   "execution_count": 1,
   "metadata": {},
   "outputs": [],
   "source": [
    "import torch, torchvision\n",
    "import sys, os\n",
    "import numpy as np\n",
    "import matplotlib.pyplot as plt\n",
    "from matplotlib import cm\n",
    "from sklearn.manifold import TSNE\n",
    "\n",
    "from ConvNetMods import alexnetmod, vgg16mod, resnetmod\n",
    "from Dataset import TransformedMNIST\n",
    "from Visualizer import plot_with_labels\n",
    "\n",
    "from FeatureExtractor import FeatureExtractor\n",
    "\n",
    "from time import time\n",
    "\n",
    "from torch.utils.data import DataLoader"
   ]
  },
  {
   "cell_type": "code",
   "execution_count": 2,
   "metadata": {},
   "outputs": [],
   "source": [
    "from torchvision import models\n",
    "vgg16 = models.vgg16(pretrained=True, progress=True)\n",
    "\n",
    "#for param in model.parameters():\n",
    "#    param.requires_grad = False\n",
    "\n",
    "alexnet = models.alexnet(pretrained=True, progress=True)\n",
    "\n",
    "weights = vgg16.classifier[6].weight"
   ]
  },
  {
   "cell_type": "code",
   "execution_count": 3,
   "metadata": {},
   "outputs": [
    {
     "data": {
      "text/plain": [
       "Dataset MNIST\n",
       "    Number of datapoints: 60000\n",
       "    Root location: /Users/abhinavpandey/PycharmProjects/math6380o/mnist\n",
       "    Split: Train\n",
       "    StandardTransform\n",
       "Transform: Compose(\n",
       "               Grayscale(num_output_channels=3)\n",
       "               Resize(size=(224, 224), interpolation=PIL.Image.BILINEAR)\n",
       "               ToTensor()\n",
       "               Normalize(mean=[0.485, 0.456, 0.406], std=[0.229, 0.224, 0.225])\n",
       "           )"
      ]
     },
     "execution_count": 3,
     "metadata": {},
     "output_type": "execute_result"
    }
   ],
   "source": [
    "\n",
    "\n",
    "alexnet = alexnetmod()\n",
    "mnist = TransformedMNIST()\n",
    "mnist.get_train()"
   ]
  },
  {
   "cell_type": "code",
   "execution_count": 4,
   "metadata": {},
   "outputs": [],
   "source": [
    "alexnet = alexnetmod()\n",
    "vgg16 = vgg16mod()\n",
    "resnet = resnetmod()"
   ]
  },
  {
   "cell_type": "code",
   "execution_count": 5,
   "metadata": {},
   "outputs": [],
   "source": [
    "\n",
    "\n",
    "featuresExtractor1 = FeatureExtractor(alexnet)\n",
    "featuresExtractor2 = FeatureExtractor(vgg16)\n",
    "featuresExtractor3 = FeatureExtractor(resnet)\n",
    "\n",
    "\n",
    "dataloader = DataLoader(mnist.get_train(), batch_size=1000, num_workers=2)"
   ]
  },
  {
   "cell_type": "code",
   "execution_count": 6,
   "metadata": {},
   "outputs": [
    {
     "data": {
      "text/plain": [
       "'\\ndatagenerator = enumerate(dataloader)\\nbatch_id, [features, labels] = next(datagenerator)\\nalexnetunmod = models.alexnet(pretrained=True, progress=True)\\nprint(\"batch_id: {}, features shape: {}, labels shape: {}\".format(batch_id, features.shape, labels.shape))\\nt1 = time()\\nalexnetunmod(features)\\nt2 = time()\\nalexnet(features)\\nt3 = time()\\n\\nprint(t2-t1, t3-t2)\\n\\nvgg16unmod = models.vgg16(pretrained=True, progress=True)\\n\\ndataloader_lean = DataLoader(mnist.get_train(), batch_size=100, num_workers=2)\\ndatagenerator_lean = enumerate(dataloader_lean)\\nbatch_id, [features, labels] = next(datagenerator_lean)\\nprint(\"batch_id: {}, features shape: {}, labels shape: {}\".format(batch_id, features.shape, labels.shape))\\nt1 = time()\\nvgg16unmod(features)\\nt2 = time()\\nvgg16(features)\\nt3 = time()\\n\\nprint(t2-t1, t3-t2)\\n'"
      ]
     },
     "execution_count": 6,
     "metadata": {},
     "output_type": "execute_result"
    }
   ],
   "source": [
    "\n",
    "\"\"\"\n",
    "datagenerator = enumerate(dataloader)\n",
    "batch_id, [features, labels] = next(datagenerator)\n",
    "alexnetunmod = models.alexnet(pretrained=True, progress=True)\n",
    "print(\"batch_id: {}, features shape: {}, labels shape: {}\".format(batch_id, features.shape, labels.shape))\n",
    "t1 = time()\n",
    "alexnetunmod(features)\n",
    "t2 = time()\n",
    "alexnet(features)\n",
    "t3 = time()\n",
    "\n",
    "print(t2-t1, t3-t2)\n",
    "\n",
    "vgg16unmod = models.vgg16(pretrained=True, progress=True)\n",
    "\n",
    "dataloader_lean = DataLoader(mnist.get_train(), batch_size=100, num_workers=2)\n",
    "datagenerator_lean = enumerate(dataloader_lean)\n",
    "batch_id, [features, labels] = next(datagenerator_lean)\n",
    "print(\"batch_id: {}, features shape: {}, labels shape: {}\".format(batch_id, features.shape, labels.shape))\n",
    "t1 = time()\n",
    "vgg16unmod(features)\n",
    "t2 = time()\n",
    "vgg16(features)\n",
    "t3 = time()\n",
    "\n",
    "print(t2-t1, t3-t2)\n",
    "\"\"\""
   ]
  },
  {
   "cell_type": "code",
   "execution_count": 7,
   "metadata": {},
   "outputs": [],
   "source": [
    "alex_net_mod = alexnetmod()"
   ]
  },
  {
   "cell_type": "code",
   "execution_count": 8,
   "metadata": {},
   "outputs": [],
   "source": [
    "feat_ext = FeatureExtractor(alex_net_mod)"
   ]
  },
  {
   "cell_type": "code",
   "execution_count": null,
   "metadata": {},
   "outputs": [],
   "source": [
    "dataloader = DataLoader(mnist.get_train(), batch_size=16, num_workers=2)"
   ]
  },
  {
   "cell_type": "code",
   "execution_count": null,
   "metadata": {},
   "outputs": [],
   "source": [
    "alexnet_mod = alexnetmod()\n",
    "feat_ext = FeatureExtractor(alexnet_mod)\n",
    "\n",
    "batch_id, [features, labels] = next(enumerate(dataloader))"
   ]
  },
  {
   "cell_type": "code",
   "execution_count": null,
   "metadata": {},
   "outputs": [],
   "source": [
    "def imshow(inp, title=None, normalize=True):\n",
    "    \"\"\"Imshow for Tensor.\"\"\"\n",
    "    inp = inp.numpy().transpose((1, 2, 0))\n",
    "    if normalize:\n",
    "        mean = np.array([0.485, 0.456, 0.406])\n",
    "        std = np.array([0.229, 0.224, 0.225])\n",
    "        inp = std * inp + mean\n",
    "        \n",
    "    inp = np.clip(inp, 0, 1)\n",
    "    plt.imshow(inp, interpolation=\"bilinear\", cmap=cm.RdYlGn, aspect=\"auto\")\n",
    "    if title is not None:\n",
    "        plt.title(title)\n",
    "    plt.pause(0.001)"
   ]
  },
  {
   "cell_type": "code",
   "execution_count": null,
   "metadata": {},
   "outputs": [],
   "source": [
    "print(features.shape)\n",
    "feature_grid = torchvision.utils.make_grid(features)\n",
    "print(feature_grid.shape)"
   ]
  },
  {
   "cell_type": "code",
   "execution_count": null,
   "metadata": {},
   "outputs": [],
   "source": [
    "imshow(feature_grid)"
   ]
  },
  {
   "cell_type": "code",
   "execution_count": null,
   "metadata": {},
   "outputs": [],
   "source": [
    "# load saved transformed dataset\n",
    "alexnet_features = torch.load(\"/Users/abhinavpandey/Projects/Math6380o/train_alexnetmod_dataset.pt\")"
   ]
  },
  {
   "cell_type": "code",
   "execution_count": null,
   "metadata": {},
   "outputs": [],
   "source": [
    "minibatch_size = 5\n",
    "dataloader_new = DataLoader(alexnet_features, batch_size=minibatch_size)\n",
    "\n",
    "batch_id, [features, labels] = next(enumerate(dataloader_new))\n",
    "\n",
    "from torchvision.utils import make_grid\n",
    "\n",
    "feat_reshaped = features.reshape(minibatch_size, 1, 1, 4096)\n",
    "\n",
    "feat_reshaped = feat_reshaped.reshape(minibatch_size, 1, 64, 64)\n",
    "\n",
    "img_grid = make_grid(feat_reshaped)\n",
    "\n",
    "img_grid.shape"
   ]
  },
  {
   "cell_type": "code",
   "execution_count": null,
   "metadata": {},
   "outputs": [],
   "source": [
    "labels[0].numpy()"
   ]
  },
  {
   "cell_type": "code",
   "execution_count": null,
   "metadata": {},
   "outputs": [],
   "source": [
    "imshow(img_grid, title=[x.item() for x in labels])"
   ]
  },
  {
   "cell_type": "code",
   "execution_count": null,
   "metadata": {},
   "outputs": [],
   "source": [
    "from matplotlib import cm"
   ]
  },
  {
   "cell_type": "code",
   "execution_count": null,
   "metadata": {},
   "outputs": [],
   "source": [
    "cm.binary"
   ]
  },
  {
   "cell_type": "code",
   "execution_count": null,
   "metadata": {},
   "outputs": [],
   "source": [
    "features.shape"
   ]
  },
  {
   "cell_type": "code",
   "execution_count": null,
   "metadata": {},
   "outputs": [],
   "source": [
    "labels.shape"
   ]
  },
  {
   "cell_type": "code",
   "execution_count": null,
   "metadata": {},
   "outputs": [],
   "source": [
    "tsne = TSNE(n_components=2, perplexity=30.0, n_iter=50000, init=\"pca\")"
   ]
  },
  {
   "cell_type": "code",
   "execution_count": null,
   "metadata": {},
   "outputs": [],
   "source": [
    "        plot_only = 500\n",
    "        embeddings = tsne.fit_transform(features.numpy()[:plot_only, :])\n",
    "        labels = labels[:plot_only]"
   ]
  },
  {
   "cell_type": "code",
   "execution_count": null,
   "metadata": {},
   "outputs": [],
   "source": [
    "embeddings"
   ]
  },
  {
   "cell_type": "code",
   "execution_count": null,
   "metadata": {},
   "outputs": [],
   "source": []
  }
 ],
 "metadata": {
  "kernelspec": {
   "display_name": "Python 3",
   "language": "python",
   "name": "python3"
  },
  "language_info": {
   "codemirror_mode": {
    "name": "ipython",
    "version": 3
   },
   "file_extension": ".py",
   "mimetype": "text/x-python",
   "name": "python",
   "nbconvert_exporter": "python",
   "pygments_lexer": "ipython3",
   "version": "3.7.4"
  }
 },
 "nbformat": 4,
 "nbformat_minor": 4
}
