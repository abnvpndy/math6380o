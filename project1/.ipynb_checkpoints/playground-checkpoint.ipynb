{
 "cells": [
  {
   "cell_type": "code",
   "execution_count": 3,
   "metadata": {},
   "outputs": [],
   "source": [
    "import torch, torchvision"
   ]
  },
  {
   "cell_type": "code",
   "execution_count": null,
   "metadata": {},
   "outputs": [],
   "source": [
    "from torchvision import models\n",
    "vgg16 = models.vgg16(pretrained=True, progress=True)\n",
    "\n",
    "#for param in model.parameters():\n",
    "#    param.requires_grad = False\n",
    "\n",
    "alexnet = models.alexnet(pretrained=True, progress=True)\n",
    "\n",
    "weights = vgg16.classifier[6].weight"
   ]
  },
  {
   "cell_type": "code",
   "execution_count": null,
   "metadata": {},
   "outputs": [],
   "source": [
    "import sys, os\n",
    "\n",
    "from math6380o.project1.ConvNetMods import alexnetmod, vgg16mod, resnetmod\n",
    "from math6380o.project1.Dataset import TransformedMNIST\n",
    "\n",
    "alexnet = alexnetmod()\n",
    "mnist = TransformedMNIST()\n",
    "mnist.get_train()"
   ]
  },
  {
   "cell_type": "code",
   "execution_count": null,
   "metadata": {},
   "outputs": [],
   "source": [
    "alexnet = alexnetmod()\n",
    "vgg16 = vgg16mod()\n",
    "resnet = resnetmod()"
   ]
  },
  {
   "cell_type": "code",
   "execution_count": null,
   "metadata": {},
   "outputs": [],
   "source": [
    "from math6380o.project1.FeatureExtractor import FeatureExtractor\n",
    "\n",
    "featuresExtractor1 = FeatureExtractor(alexnet)\n",
    "featuresExtractor2 = FeatureExtractor(vgg16)\n",
    "featuresExtractor3 = FeatureExtractor(resnet)\n",
    "\n",
    "dataloader = DataLoader(mnist.get_train(), batch_size=1000, num_workers=2)"
   ]
  },
  {
   "cell_type": "code",
   "execution_count": null,
   "metadata": {},
   "outputs": [],
   "source": [
    "from time import time\n",
    "\n",
    "datagenerator = enumerate(dataloader)\n",
    "batch_id, [features, labels] = next(datagenerator)\n",
    "alexnetunmod = models.alexnet(pretrained=True, progress=True)\n",
    "print(\"batch_id: {}, features shape: {}, labels shape: {}\".format(batch_id, features.shape, labels.shape))\n",
    "t1 = time()\n",
    "alexnetunmod(features)\n",
    "t2 = time()\n",
    "alexnet(features)\n",
    "t3 = time()\n",
    "\n",
    "print(t2-t1, t3-t2)\n",
    "\n",
    "vgg16unmod = models.vgg16(pretrained=True, progress=True)\n",
    "\n",
    "dataloader_lean = DataLoader(mnist.get_train(), batch_size=100, num_workers=2)\n",
    "datagenerator_lean = enumerate(dataloader_lean)\n",
    "batch_id, [features, labels] = next(datagenerator_lean)\n",
    "print(\"batch_id: {}, features shape: {}, labels shape: {}\".format(batch_id, features.shape, labels.shape))\n",
    "t1 = time()\n",
    "vgg16unmod(features)\n",
    "t2 = time()\n",
    "vgg16(features)\n",
    "t3 = time()\n",
    "\n",
    "print(t2-t1, t3-t2)"
   ]
  },
  {
   "cell_type": "code",
   "execution_count": null,
   "metadata": {},
   "outputs": [],
   "source": []
  }
 ],
 "metadata": {
  "kernelspec": {
   "display_name": "Python 3",
   "language": "python",
   "name": "python3"
  },
  "language_info": {
   "codemirror_mode": {
    "name": "ipython",
    "version": 3
   },
   "file_extension": ".py",
   "mimetype": "text/x-python",
   "name": "python",
   "nbconvert_exporter": "python",
   "pygments_lexer": "ipython3",
   "version": "3.7.4"
  }
 },
 "nbformat": 4,
 "nbformat_minor": 4
}
